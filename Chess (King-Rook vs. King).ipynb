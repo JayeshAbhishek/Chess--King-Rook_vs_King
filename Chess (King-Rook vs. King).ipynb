{
 "cells": [
  {
   "cell_type": "markdown",
   "metadata": {},
   "source": [
    "# Chess (King-Rook vs. King) Data Set"
   ]
  },
  {
   "cell_type": "markdown",
   "metadata": {},
   "source": [
    "## Problem Statement:-\n",
    "\n",
    "In this project we are going to perform classification on the chess(King-Rook vs King) Dataset.We are going to use Decision Tree Classifier to perform the classification task.We are going to predict the values of the column named as result in the above mentioned dataset.\n"
   ]
  },
  {
   "cell_type": "markdown",
   "metadata": {},
   "source": [
    "# Dataset Description:-\n",
    "\n",
    "An Inductive Logic Programming (ILP) or relational learning framework is assumed (Muggleton, 1992). The learning system is provided with examples of chess positions described only by the coordinates of the pieces on the board. Background knowledge in the form of row and column differences is also supplied. The relations necessary to form a correct and concise classifier for the target concept must be discovered by the learning system (the examples already provide a complete extensional definition). The task is closely related to Quinlan's (1983) application of ID3 to classify White King and Rook against Black King and Knight (KRKN) positions as lost 2-ply or lost 3-ply. The framework is similar in that the example positions supply only low-grade data. An important difference is that additional background predicates of the kind supplied in the KRKN study via hand-crafted attributes are not provided for this KRK domain.\n",
    "\n",
    "Chess endgames are complex domains which are enumerable. Endgame databases are tables of stored game-theoretic values for the enumerated elements (legal positions) of the domain. The game-theoretic values stored denote whether or not positions are won for either side, or include also the depth of win (number of moves) assuming minimax-optimal play. From the point of view of experiments on computer induction such databases provide not only a source of examples but also an oracle (Roycroft, 1986) for testing induced rules. However a chess endgame database differs from, say, a relational database containing details of parts and suppliers in the following important respect. The combinatorics of computing the required game-theoretic values for individual position entries independently would be prohibitive. Therefore all the database entries are generated in a single iterative process using the 'standard backup' algorithm (Thompson, 1986).\n",
    "\n",
    "A KRK database was described by Clarke (1977). The current database was described and used for machine learning experiments in Bain (1992; 1994). It should be noted that our database is not guaranteed correct, but the class distribution is the same as Clarke's database. In (Bain 1992; 1994) the task was classification of positions in the database as won for white in a fixed number of moves, assuming optimal play by both sides. The problem was structured into separate sub-problems by depth-of-win ordered draw, zero, one, ..., sixteen. When learning depth d all examples at depths > d are used as negatives. Quinlan (1994) applied Foil to learn a complete and correct solution for this task.\n",
    "\n",
    "The typical complexity of induced classifiers in this domain suggest that the task is demanding when background knowledge is restricted.\n",
    "\n"
   ]
  },
  {
   "cell_type": "markdown",
   "metadata": {},
   "source": [
    "## Attribute Information:-\n",
    "\n",
    "1. White King file (column)\n",
    "2. White King rank (row)\n",
    "3. White Rook file\n",
    "4. White Rook rank\n",
    "5. Black King file\n",
    "6. Black King rank\n",
    "7. optimal depth-of-win for White in 0 to 16 moves, otherwise drawn {draw, zero, one, two, ..., sixteen}.\n",
    "\n"
   ]
  },
  {
   "cell_type": "markdown",
   "metadata": {},
   "source": [
    "## We will be implementing the following steps to achieve the final result:-\n",
    "\n",
    "1. Importing the Libraries\n",
    "2. Importing the dataset\n",
    "3. Exploratory Data Analysis\n",
    "4. Feature Engineering\n",
    "5. Building the model\n",
    "6. Evaluating the model"
   ]
  },
  {
   "cell_type": "markdown",
   "metadata": {},
   "source": [
    "## Step-1: Importing the Libraries:-\n"
   ]
  },
  {
   "cell_type": "code",
   "execution_count": 2,
   "metadata": {},
   "outputs": [],
   "source": [
    "# import numpy as np for processing data\n",
    "import numpy as np\n",
    "\n",
    "# import pandas as pd for importing the data and working with data\n",
    "import pandas as pd\n",
    "\n",
    "# import matplotlib.pyplot as plt for visualisation\n",
    "import matplotlib.pyplot as plt\n",
    "\n",
    "# import seaborn as sns for data visualization\n",
    "import seaborn as sns"
   ]
  },
  {
   "cell_type": "markdown",
   "metadata": {},
   "source": [
    "## Step-2: Importing the dataset:-"
   ]
  },
  {
   "cell_type": "code",
   "execution_count": 4,
   "metadata": {},
   "outputs": [],
   "source": [
    "# Using pd.read_csv(dataaset) importing the dataset\n",
    "dataset=pd.read_csv('chess_king_rook_dataset.csv')"
   ]
  },
  {
   "cell_type": "markdown",
   "metadata": {},
   "source": [
    "## Seeing the dataset:-"
   ]
  },
  {
   "cell_type": "code",
   "execution_count": 5,
   "metadata": {},
   "outputs": [
    {
     "data": {
      "text/html": [
       "<div>\n",
       "<style scoped>\n",
       "    .dataframe tbody tr th:only-of-type {\n",
       "        vertical-align: middle;\n",
       "    }\n",
       "\n",
       "    .dataframe tbody tr th {\n",
       "        vertical-align: top;\n",
       "    }\n",
       "\n",
       "    .dataframe thead th {\n",
       "        text-align: right;\n",
       "    }\n",
       "</style>\n",
       "<table border=\"1\" class=\"dataframe\">\n",
       "  <thead>\n",
       "    <tr style=\"text-align: right;\">\n",
       "      <th></th>\n",
       "      <th>white_king_file</th>\n",
       "      <th>white_king_rank</th>\n",
       "      <th>white_rook_file</th>\n",
       "      <th>white_rook_rank</th>\n",
       "      <th>black_king_file</th>\n",
       "      <th>black_king_rank</th>\n",
       "      <th>result</th>\n",
       "    </tr>\n",
       "  </thead>\n",
       "  <tbody>\n",
       "    <tr>\n",
       "      <td>0</td>\n",
       "      <td>a</td>\n",
       "      <td>1</td>\n",
       "      <td>b</td>\n",
       "      <td>3</td>\n",
       "      <td>c</td>\n",
       "      <td>2</td>\n",
       "      <td>draw</td>\n",
       "    </tr>\n",
       "    <tr>\n",
       "      <td>1</td>\n",
       "      <td>a</td>\n",
       "      <td>1</td>\n",
       "      <td>c</td>\n",
       "      <td>1</td>\n",
       "      <td>c</td>\n",
       "      <td>2</td>\n",
       "      <td>draw</td>\n",
       "    </tr>\n",
       "    <tr>\n",
       "      <td>2</td>\n",
       "      <td>a</td>\n",
       "      <td>1</td>\n",
       "      <td>c</td>\n",
       "      <td>1</td>\n",
       "      <td>d</td>\n",
       "      <td>1</td>\n",
       "      <td>draw</td>\n",
       "    </tr>\n",
       "    <tr>\n",
       "      <td>3</td>\n",
       "      <td>a</td>\n",
       "      <td>1</td>\n",
       "      <td>c</td>\n",
       "      <td>1</td>\n",
       "      <td>d</td>\n",
       "      <td>2</td>\n",
       "      <td>draw</td>\n",
       "    </tr>\n",
       "    <tr>\n",
       "      <td>4</td>\n",
       "      <td>a</td>\n",
       "      <td>1</td>\n",
       "      <td>c</td>\n",
       "      <td>2</td>\n",
       "      <td>c</td>\n",
       "      <td>1</td>\n",
       "      <td>draw</td>\n",
       "    </tr>\n",
       "  </tbody>\n",
       "</table>\n",
       "</div>"
      ],
      "text/plain": [
       "  white_king_file  white_king_rank white_rook_file  white_rook_rank  \\\n",
       "0               a                1               b                3   \n",
       "1               a                1               c                1   \n",
       "2               a                1               c                1   \n",
       "3               a                1               c                1   \n",
       "4               a                1               c                2   \n",
       "\n",
       "  black_king_file  black_king_rank result  \n",
       "0               c                2   draw  \n",
       "1               c                2   draw  \n",
       "2               d                1   draw  \n",
       "3               d                2   draw  \n",
       "4               c                1   draw  "
      ]
     },
     "execution_count": 5,
     "metadata": {},
     "output_type": "execute_result"
    }
   ],
   "source": [
    "# Using data.head() seeing the dataset\n",
    "dataset.head()"
   ]
  },
  {
   "cell_type": "markdown",
   "metadata": {},
   "source": [
    "## Step-3: Exploratory Data Analysis:-\n",
    "\n",
    "It is common for data scientists to spend a majority of their time exploring and cleaning data, but approaching this as an opportunity to invest in your model (instead of viewing it as just another chore on your to-do list) will yield big dividends later on in the data science process.\n",
    "\n",
    "Performing thorough exploratory data analysis (EDA) and cleaning the dataset are not only essential steps, but also a great opportunity to lay the foundation for a strong machine learning model."
   ]
  },
  {
   "cell_type": "markdown",
   "metadata": {},
   "source": [
    "## Seeing the shape and size of the dataset:-"
   ]
  },
  {
   "cell_type": "code",
   "execution_count": 6,
   "metadata": {},
   "outputs": [
    {
     "name": "stdout",
     "output_type": "stream",
     "text": [
      "(28056, 7)\n",
      "196392\n"
     ]
    }
   ],
   "source": [
    "# Using data.shape and data.size seeing the shape and size of the dataset\n",
    "print(dataset.shape)\n",
    "print(dataset.size)"
   ]
  },
  {
   "cell_type": "markdown",
   "metadata": {},
   "source": [
    "## Describing the dataset:-"
   ]
  },
  {
   "cell_type": "code",
   "execution_count": 7,
   "metadata": {},
   "outputs": [
    {
     "data": {
      "text/html": [
       "<div>\n",
       "<style scoped>\n",
       "    .dataframe tbody tr th:only-of-type {\n",
       "        vertical-align: middle;\n",
       "    }\n",
       "\n",
       "    .dataframe tbody tr th {\n",
       "        vertical-align: top;\n",
       "    }\n",
       "\n",
       "    .dataframe thead th {\n",
       "        text-align: right;\n",
       "    }\n",
       "</style>\n",
       "<table border=\"1\" class=\"dataframe\">\n",
       "  <thead>\n",
       "    <tr style=\"text-align: right;\">\n",
       "      <th></th>\n",
       "      <th>white_king_rank</th>\n",
       "      <th>white_rook_rank</th>\n",
       "      <th>black_king_rank</th>\n",
       "    </tr>\n",
       "  </thead>\n",
       "  <tbody>\n",
       "    <tr>\n",
       "      <td>count</td>\n",
       "      <td>28056.000000</td>\n",
       "      <td>28056.000000</td>\n",
       "      <td>28056.000000</td>\n",
       "    </tr>\n",
       "    <tr>\n",
       "      <td>mean</td>\n",
       "      <td>1.854006</td>\n",
       "      <td>4.512404</td>\n",
       "      <td>4.451811</td>\n",
       "    </tr>\n",
       "    <tr>\n",
       "      <td>std</td>\n",
       "      <td>0.926414</td>\n",
       "      <td>2.282723</td>\n",
       "      <td>2.248387</td>\n",
       "    </tr>\n",
       "    <tr>\n",
       "      <td>min</td>\n",
       "      <td>1.000000</td>\n",
       "      <td>1.000000</td>\n",
       "      <td>1.000000</td>\n",
       "    </tr>\n",
       "    <tr>\n",
       "      <td>25%</td>\n",
       "      <td>1.000000</td>\n",
       "      <td>3.000000</td>\n",
       "      <td>3.000000</td>\n",
       "    </tr>\n",
       "    <tr>\n",
       "      <td>50%</td>\n",
       "      <td>2.000000</td>\n",
       "      <td>5.000000</td>\n",
       "      <td>4.000000</td>\n",
       "    </tr>\n",
       "    <tr>\n",
       "      <td>75%</td>\n",
       "      <td>2.000000</td>\n",
       "      <td>6.000000</td>\n",
       "      <td>6.000000</td>\n",
       "    </tr>\n",
       "    <tr>\n",
       "      <td>max</td>\n",
       "      <td>4.000000</td>\n",
       "      <td>8.000000</td>\n",
       "      <td>8.000000</td>\n",
       "    </tr>\n",
       "  </tbody>\n",
       "</table>\n",
       "</div>"
      ],
      "text/plain": [
       "       white_king_rank  white_rook_rank  black_king_rank\n",
       "count     28056.000000     28056.000000     28056.000000\n",
       "mean          1.854006         4.512404         4.451811\n",
       "std           0.926414         2.282723         2.248387\n",
       "min           1.000000         1.000000         1.000000\n",
       "25%           1.000000         3.000000         3.000000\n",
       "50%           2.000000         5.000000         4.000000\n",
       "75%           2.000000         6.000000         6.000000\n",
       "max           4.000000         8.000000         8.000000"
      ]
     },
     "execution_count": 7,
     "metadata": {},
     "output_type": "execute_result"
    }
   ],
   "source": [
    "# Using data.describe() describing the dataset\n",
    "dataset.describe()"
   ]
  },
  {
   "cell_type": "markdown",
   "metadata": {},
   "source": [
    "## Seeing the non null values in the dataset:-"
   ]
  },
  {
   "cell_type": "code",
   "execution_count": 8,
   "metadata": {},
   "outputs": [
    {
     "name": "stdout",
     "output_type": "stream",
     "text": [
      "<class 'pandas.core.frame.DataFrame'>\n",
      "RangeIndex: 28056 entries, 0 to 28055\n",
      "Data columns (total 7 columns):\n",
      "white_king_file    28056 non-null object\n",
      "white_king_rank    28056 non-null int64\n",
      "white_rook_file    28056 non-null object\n",
      "white_rook_rank    28056 non-null int64\n",
      "black_king_file    28056 non-null object\n",
      "black_king_rank    28056 non-null int64\n",
      "result             28056 non-null object\n",
      "dtypes: int64(3), object(4)\n",
      "memory usage: 1.5+ MB\n"
     ]
    }
   ],
   "source": [
    "# Using data.info() seeing the non null values in the dataset\n",
    "dataset.info()"
   ]
  },
  {
   "cell_type": "markdown",
   "metadata": {},
   "source": [
    "## Seeing the list of all the columns in the dataset:-"
   ]
  },
  {
   "cell_type": "code",
   "execution_count": 9,
   "metadata": {},
   "outputs": [
    {
     "name": "stdout",
     "output_type": "stream",
     "text": [
      "Index(['white_king_file', 'white_king_rank', 'white_rook_file',\n",
      "       'white_rook_rank', 'black_king_file', 'black_king_rank', 'result'],\n",
      "      dtype='object')\n"
     ]
    }
   ],
   "source": [
    "# Using data.columns seeing the list of all the columns in the dataset\n",
    "print(dataset.columns)"
   ]
  },
  {
   "cell_type": "markdown",
   "metadata": {},
   "source": [
    "## Seeing the null values in the dataset:-"
   ]
  },
  {
   "cell_type": "code",
   "execution_count": 10,
   "metadata": {},
   "outputs": [
    {
     "data": {
      "text/plain": [
       "white_king_file    0\n",
       "white_king_rank    0\n",
       "white_rook_file    0\n",
       "white_rook_rank    0\n",
       "black_king_file    0\n",
       "black_king_rank    0\n",
       "result             0\n",
       "dtype: int64"
      ]
     },
     "execution_count": 10,
     "metadata": {},
     "output_type": "execute_result"
    }
   ],
   "source": [
    "# Using data.isnull().sum() seeing all the null values present in the dataset\n",
    "dataset.isnull().sum()"
   ]
  },
  {
   "cell_type": "markdown",
   "metadata": {},
   "source": [
    "## Visualising the data using seaborn library\n",
    "\n",
    "There are different types of plots like bar plot, box plot, scatter plot etc.\n",
    "\n",
    "Scatter plot is very useful when we are analyzing the relation ship between 2 features on x and y axis.\n",
    "\n",
    "In seaborn library we have pairplot function which is very useful to scatter plot all the features at once instead of plotting them individually.\n"
   ]
  },
  {
   "cell_type": "code",
   "execution_count": 11,
   "metadata": {},
   "outputs": [
    {
     "data": {
      "text/plain": [
       "<seaborn.axisgrid.PairGrid at 0x25920d00ec8>"
      ]
     },
     "execution_count": 11,
     "metadata": {},
     "output_type": "execute_result"
    },
    {
     "data": {
      "image/png": "[encoded data removed]",
      "text/plain": [
       "<Figure size 540x540 with 12 Axes>"
      ]
     },
     "metadata": {
      "needs_background": "light"
     },
     "output_type": "display_data"
    }
   ],
   "source": [
    "# Seeing the pairplot using sns.pairplot(data)\n",
    "sns.pairplot(dataset.iloc[:,:-1])"
   ]
  },
  {
   "cell_type": "code",
   "execution_count": 13,
   "metadata": {},
   "outputs": [
    {
     "data": {
      "text/plain": [
       "<matplotlib.axes._subplots.AxesSubplot at 0x25921698ac8>"
      ]
     },
     "execution_count": 13,
     "metadata": {},
     "output_type": "execute_result"
    },
    {
     "data": {
      "image/png": "[encoded data removed]",
      "text/plain": [
       "<Figure size 432x288 with 2 Axes>"
      ]
     },
     "metadata": {
      "needs_background": "light"
     },
     "output_type": "display_data"
    }
   ],
   "source": [
    "# Seeing the heatmap using sns.heatmap(data.corr(),annot=True)\n",
    "sns.heatmap(dataset.corr(),annot=True)"
   ]
  },
  {
   "cell_type": "markdown",
   "metadata": {},
   "source": [
    "## Step-4: Feature Engineering\n",
    "\n"
   ]
  },
  {
   "cell_type": "markdown",
   "metadata": {},
   "source": [
    "## Label Encoding:-\n",
    "\n",
    "In machine learning, we usually deal with datasets which contains multiple labels in one or more than one columns. These labels can be in the form of words or numbers. To make the data understandable or in human readable form, the training data is often labeled in words.\n",
    "\n",
    "Label Encoding refers to converting the labels into numeric form so as to convert it into the machine-readable form. Machine learning algorithms can then decide in a better way on how those labels must be operated. It is an important pre-processing step for the structured dataset in supervised learning.\n",
    "\n",
    "Limitation of label Encoding:-\n",
    "Label encoding convert the data in machine readable form, but it assigns a unique number(starting from 0) to each class of data. This may lead to the generation of priority issue in training of data sets. A label with high value may be considered to have high priority than a label having lower value.\n",
    "\n",
    "Example:-\n",
    "\n",
    "An attribute having output classes mexico, paris, dubai. On Label Encoding this column, let mexico is replaced with 0 , paris is replaced with 1 and dubai is replaced with 2.\n",
    "With this, it can be interpreted that dubai have high priority than mexico and paris while training the model, But actually there is no such priority relation between these cities here."
   ]
  },
  {
   "cell_type": "code",
   "execution_count": 14,
   "metadata": {},
   "outputs": [],
   "source": [
    "# from sklearn.preprocessing import LabelEncoder for performing Label Encoding\n",
    "from sklearn.preprocessing import LabelEncoder\n",
    "lbl_white_king=LabelEncoder()\n",
    "dataset['white_king_file']=lbl_white_king.fit_transform(dataset['white_king_file'])\n",
    "lbl_white_rook=LabelEncoder()\n",
    "dataset['white_rook_file']=lbl_white_rook.fit_transform(dataset['white_rook_file'])\n",
    "lbl_black_king=LabelEncoder()\n",
    "dataset['black_king_file']=lbl_black_king.fit_transform(dataset['black_king_file'])\n",
    "lbl_result=LabelEncoder()\n",
    "dataset['result']=lbl_result.fit_transform(dataset['result'])"
   ]
  },
  {
   "cell_type": "markdown",
   "metadata": {},
   "source": [
    "## Breaking the data into feature variables and target:-"
   ]
  },
  {
   "cell_type": "code",
   "execution_count": 15,
   "metadata": {},
   "outputs": [],
   "source": [
    "# Using data.iloc[:,:-1].values we get the feature variables\n",
    "x=dataset.iloc[:,:-1].values\n",
    "\n",
    "# Using data.iloc[:,-1].values we get the target variable\n",
    "y=dataset.iloc[:,-1].values"
   ]
  },
  {
   "cell_type": "markdown",
   "metadata": {},
   "source": [
    "## Dividing the dataset into test and train data:-"
   ]
  },
  {
   "cell_type": "code",
   "execution_count": 16,
   "metadata": {},
   "outputs": [],
   "source": [
    "# we can divide the data into train and test data using train_test_split \n",
    "from sklearn.model_selection import train_test_split\n",
    "x_train,x_test,y_train,y_test=train_test_split(x,y,test_size=0.25,random_state=100)"
   ]
  },
  {
   "cell_type": "markdown",
   "metadata": {},
   "source": [
    "## Step-5: Building the model:-\n",
    "\n",
    "We will be using Decision Tree Classifier for performing the classification task.\n",
    "\n"
   ]
  },
  {
   "cell_type": "markdown",
   "metadata": {},
   "source": [
    "## Decision Tree Classifier:-\n",
    "\n",
    "Decision Tree Classifier is a simple and widely used classification technique. It applies a straitforward idea to solve the classification problem. Decision Tree Classifier poses a series of carefully crafted questions about the attributes of the test record. Each time time it receive an answer, a follow-up question is asked until a conclusion about the calss label of the record is reached.\n",
    "\n",
    "The decision tree classifiers organized a series of test questions and conditions in a tree structure.In the decision tree, the root and internal nodes contain attribute test conditions to separate recordes that have different characteristics. All the terminal node is assigned a class lable Yes or No.\n",
    "\n",
    "Once the decision tree has been constructed, classifying a test record is straightforward. Starting from the root node, we apply the test condition to the record and follow the appropriate branch based on the outcome of the test. It then lead us either to another internal node, for which a new test condition is applied, or to a leaf node. When we reach the leaf node, the class lable associated with the leaf node is then assigned to the record.\n",
    "\n",
    "The decision tree induction algorithm works by recursively selecting the best attribute to split the data and expanding the leaf nodes of the tree until the stopping cirterion is met. The choice of best split test condition is determined by comparing the impurity of child nodes and also depends on which impurity measurement is used. After building the decision tree, a tree-prunning step can be performed to reduce the size of decision tree. Decision trees that are too large are susceptible to a phenomenon known as overfitting. Pruning helps by trimming the branches of the initail tree in a way that improves the generalization capability of the decision tree."
   ]
  },
  {
   "cell_type": "code",
   "execution_count": 17,
   "metadata": {},
   "outputs": [],
   "source": [
    "# We can import DecsisonTreeClassifer from sklearn.tree\n",
    "from sklearn.tree import DecisionTreeClassifier\n",
    "\n",
    "# Now we need to create an object for the DecisionTreeClassifier\n",
    "model=DecisionTreeClassifier()\n",
    "\n",
    "# Use model.fit(x_train,y_train) to train the model \n",
    "model.fit(x_train,y_train)\n",
    "\n",
    "# Using model.predict(x_test) we will be predicting the values\n",
    "y_predict=model.predict(x_test)"
   ]
  },
  {
   "cell_type": "markdown",
   "metadata": {},
   "source": [
    "## Step-5: Evaluating the model:-\n",
    "\n",
    "We will be evaluating the model using confusion matrix and accuracy_score:\n",
    " \n",
    "### Confusion Matrix:-\n",
    " \n",
    "When we get the data, after data cleaning, pre-processing and wrangling, the first step we do is to feed it to an outstanding model and of course, get output in probabilities. But hold on! How in the hell can we measure the effectiveness of our model. Better the effectiveness, better the performance and that’s exactly what we want. And it is where the Confusion matrix comes into the limelight. Confusion Matrix is a performance measurement for machine learning classification.\n",
    " \n",
    " \n",
    "What is Confusion Matrix and why you need it?\n",
    "Well, it is a performance measurement for machine learning classification problem where output can be two or more classes. It is a table with 4 different combinations of predicted and actual values.\n",
    "\n",
    "Related Terminologies:-\n",
    "\n",
    "True Positive:\n",
    "Interpretation: You predicted positive and it’s true.\n",
    "\n",
    "True Negative:\n",
    "Interpretation: You predicted negative and it’s true.\n",
    "\n",
    "False Positive: (Type 1 Error)\n",
    "Interpretation: You predicted positive and it’s false.\n",
    "\n",
    "False Negative: (Type 2 Error)\n",
    "Interpretation: You predicted negative and it’s false.\n",
    "\n",
    "### Accuracy Score:-\n",
    "\n",
    "Accuracy is the most intuitive performance measure and it is simply a ratio of correctly predicted observation to the total observations. One may think that, if we have high accuracy then our model is best. Yes, accuracy is a great measure but only when you have symmetric datasets where values of false positive and false negatives are almost same. Therefore, you have to look at other parameters to evaluate the performance of your model. For our model, we have got 0.803 which means our model is approx. 80% accurate."
   ]
  },
  {
   "cell_type": "code",
   "execution_count": 18,
   "metadata": {},
   "outputs": [
    {
     "name": "stdout",
     "output_type": "stream",
     "text": [
      "[[537   6  26  16   2   0  13   9   1  11   4  14  11  21   0  27   1   1]\n",
      " [  2 277   3   0   2   0   3  29   1  16   2   0   7   4   0   3   0   0]\n",
      " [ 17   4 592   1   2   0   1  14   0   0   0   0  31  13   0  42   0   0]\n",
      " [ 13   0   1 486   0   0  39   0   0   0   0   7   2   5   0   0   0   0]\n",
      " [  1   2   0   0 101   5   0   1   2   0   4   0   0   0   1   0   2   1]\n",
      " [  2   2   0   0   0  48   0   0   0   0   5   0   0   0   3   0   0   0]\n",
      " [ 21   0   3  41   0   0 975   0   0   0   0   1   1  74   0  11   0   0]\n",
      " [ 12  21  15   0   0   0   0 363   0   4   1   0  23   1   0   4   0   0]\n",
      " [  1   0   0   0   0   0   0   0  19   0   1   0   0   0   0   0   0   0]\n",
      " [  6   6   0   0   4   0   0   3   1 126   8   0   1   0   0   0   0   0]\n",
      " [  3   7   0   0   4   2   0   2   0   6 109   0   0   0   0   0   0   0]\n",
      " [  8   0   0   7   0   0   0   0   0   0   0  69   0   0   0   0   0   0]\n",
      " [ 14  10  36   1   0   0   1  17   0   3   0   0 424   5   0  11   0   0]\n",
      " [ 24   1  11   8   0   0  72   2   0   0   2   0   5 825   0  58   0   0]\n",
      " [  0   0   0   0   1   0   0   0   0   0   2   0   0   0  17   0   0   0]\n",
      " [ 18   5  25   1   1   0  11   1   0   2   0   0   4  73   0 774   0   0]\n",
      " [  0   0   0   0   0   1   0   0   0   0   3   0   0   0   0   0  78   0]\n",
      " [  0   0   0   0   1   0   0   0   0   0   0   0   0   0   1   0   0   2]]\n",
      "0.8300541773595665\n"
     ]
    }
   ],
   "source": [
    "# We can import confusion_matrix from sklearn.metrics\n",
    "from sklearn.metrics import confusion_matrix\n",
    "confusion=confusion_matrix(y_test,y_predict)\n",
    "print(confusion)\n",
    "\n",
    "# We can import accuracy score from sklearn.metrics\n",
    "print(model.score(x_test,y_test))"
   ]
  }
 ],
 "metadata": {
  "kernelspec": {
   "display_name": "Python 3",
   "language": "python",
   "name": "python3"
  },
  "language_info": {
   "codemirror_mode": {
    "name": "ipython",
    "version": 3
   },
   "file_extension": ".py",
   "mimetype": "text/x-python",
   "name": "python",
   "nbconvert_exporter": "python",
   "pygments_lexer": "ipython3",
   "version": "3.7.4"
  }
 },
 "nbformat": 4,
 "nbformat_minor": 2
}
